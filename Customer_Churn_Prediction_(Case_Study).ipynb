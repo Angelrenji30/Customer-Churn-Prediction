{
  "nbformat": 4,
  "nbformat_minor": 0,
  "metadata": {
    "colab": {
      "provenance": []
    },
    "kernelspec": {
      "name": "python3",
      "display_name": "Python 3"
    },
    "language_info": {
      "name": "python"
    }
  },
  "cells": [
    {
      "cell_type": "markdown",
      "source": [
        "# Libraries"
      ],
      "metadata": {
        "id": "SHC9SS5rwkf8"
      }
    },
    {
      "cell_type": "code",
      "execution_count": 95,
      "metadata": {
        "id": "ryqynbiZtdak"
      },
      "outputs": [],
      "source": [
        "import pandas as pd\n",
        "import numpy as np\n",
        "import matplotlib.pyplot as plt\n",
        "import seaborn as sns\n",
        "from sklearn.preprocessing import MinMaxScaler\n",
        "from sklearn.model_selection import train_test_split, cross_val_score\n",
        "from sklearn.preprocessing import LabelEncoder, OrdinalEncoder\n",
        "from sklearn.linear_model import LogisticRegression , LinearRegression\n",
        "from sklearn.metrics import accuracy_score, confusion_matrix, precision_score, recall_score, f1_score\n",
        "from sklearn.ensemble import RandomForestClassifier\n",
        "from sklearn.metrics import mean_squared_error, r2_score\n",
        "from sklearn.svm import SVC\n",
        "from sklearn.model_selection import RandomizedSearchCV\n",
        "from sklearn.ensemble import BaggingClassifier, AdaBoostClassifier, GradientBoostingClassifier"
      ]
    },
    {
      "cell_type": "markdown",
      "source": [
        "# Loading dataset from Google Drive"
      ],
      "metadata": {
        "id": "1OzzvV8Xwv0w"
      }
    },
    {
      "cell_type": "code",
      "source": [
        "from google.colab import drive\n",
        "drive.mount('/content/drive')"
      ],
      "metadata": {
        "id": "WDBxAogqwNRS"
      },
      "execution_count": null,
      "outputs": []
    },
    {
      "cell_type": "code",
      "source": [
        "filepath= '/content/drive/MyDrive/ICT /Dataset/Training_data.csv'\n",
        "df_train= pd.read_csv(filepath)\n",
        "df_train.head()"
      ],
      "metadata": {
        "id": "Ftj-PPLhxDUv"
      },
      "execution_count": null,
      "outputs": []
    },
    {
      "cell_type": "code",
      "source": [
        "filepath= '/content/drive/MyDrive/ICT /Dataset/Testing_data.csv'\n",
        "df_test= pd.read_csv(filepath)\n",
        "df_test.head()"
      ],
      "metadata": {
        "id": "76pUq8KyyFb2"
      },
      "execution_count": null,
      "outputs": []
    },
    {
      "cell_type": "markdown",
      "source": [
        "# Exploratory Data Analysis (EDA)"
      ],
      "metadata": {
        "id": "StbCMV0uzaN6"
      }
    },
    {
      "cell_type": "code",
      "source": [
        "df_train.shape"
      ],
      "metadata": {
        "id": "jTuSCG5myXNU"
      },
      "execution_count": null,
      "outputs": []
    },
    {
      "cell_type": "code",
      "source": [
        "df_test.shape"
      ],
      "metadata": {
        "id": "j1JQCq-jyprd"
      },
      "execution_count": null,
      "outputs": []
    },
    {
      "cell_type": "code",
      "source": [
        "df_train.info()"
      ],
      "metadata": {
        "id": "E-cq4mVVys0C"
      },
      "execution_count": null,
      "outputs": []
    },
    {
      "cell_type": "code",
      "source": [
        "df_test.info()"
      ],
      "metadata": {
        "id": "25OISBTcyw-g"
      },
      "execution_count": null,
      "outputs": []
    },
    {
      "cell_type": "code",
      "source": [
        "df_train.describe()"
      ],
      "metadata": {
        "id": "sR02NYf_y1VX"
      },
      "execution_count": null,
      "outputs": []
    },
    {
      "cell_type": "code",
      "source": [
        "df_test.describe()"
      ],
      "metadata": {
        "id": "WTt7PkTDy4FS"
      },
      "execution_count": null,
      "outputs": []
    },
    {
      "cell_type": "markdown",
      "source": [
        "## Missing Values Identification"
      ],
      "metadata": {
        "id": "Yoorg1pf3dZQ"
      }
    },
    {
      "cell_type": "code",
      "source": [
        "df_train.isna().sum()"
      ],
      "metadata": {
        "id": "wF2x-Pzsy81V"
      },
      "execution_count": null,
      "outputs": []
    },
    {
      "cell_type": "code",
      "source": [
        "df_test.isna().sum()"
      ],
      "metadata": {
        "id": "LrZ9VkKZzGba"
      },
      "execution_count": null,
      "outputs": []
    },
    {
      "cell_type": "markdown",
      "source": [
        "## Duplicate Identification"
      ],
      "metadata": {
        "id": "bioz40OZa4-X"
      }
    },
    {
      "cell_type": "code",
      "source": [
        "df_train.duplicated().sum()"
      ],
      "metadata": {
        "id": "pbyCgruZzroe"
      },
      "execution_count": null,
      "outputs": []
    },
    {
      "cell_type": "code",
      "source": [
        "df_test.duplicated().sum()"
      ],
      "metadata": {
        "id": "S23V3Wj_z0D5"
      },
      "execution_count": null,
      "outputs": []
    },
    {
      "cell_type": "code",
      "source": [
        "df_train.nunique()"
      ],
      "metadata": {
        "id": "eRnAH6Zrz4QD"
      },
      "execution_count": null,
      "outputs": []
    },
    {
      "cell_type": "code",
      "source": [
        "df_test.nunique()"
      ],
      "metadata": {
        "id": "n6ibifi1z9DW"
      },
      "execution_count": null,
      "outputs": []
    },
    {
      "cell_type": "markdown",
      "source": [
        "## Outlier Identification"
      ],
      "metadata": {
        "id": "R6zdpEbK3YRY"
      }
    },
    {
      "cell_type": "code",
      "source": [
        "for col in df_train.columns:\n",
        "  sns.boxplot(df_train[col])\n",
        "  plt.show()"
      ],
      "metadata": {
        "id": "tec_OXH45Z4N"
      },
      "execution_count": null,
      "outputs": []
    },
    {
      "cell_type": "code",
      "source": [
        "for col in df_test.columns:\n",
        "  sns.boxplot(df_test[col])\n",
        "  plt.show()"
      ],
      "metadata": {
        "id": "liYesf_p3X6_"
      },
      "execution_count": null,
      "outputs": []
    },
    {
      "cell_type": "markdown",
      "source": [
        "## Visualization"
      ],
      "metadata": {
        "id": "rtCx-64TdwE7"
      }
    },
    {
      "cell_type": "markdown",
      "source": [
        "Scatterplot"
      ],
      "metadata": {
        "id": "DhQyF9Q0eFRY"
      }
    },
    {
      "cell_type": "code",
      "source": [
        "#Train dataset\n",
        "sns.scatterplot(data = df_train, x = 'TotalCharges', y = 'Churn',hue=\"gender\")\n",
        "plt.title(\"TotalChargess vs Churns\")"
      ],
      "metadata": {
        "id": "UvyfpDUPLjVr"
      },
      "execution_count": null,
      "outputs": []
    },
    {
      "cell_type": "code",
      "source": [
        "#Test Dataset\n",
        "sns.scatterplot(data = df_test, x = 'TotalCharges', y = 'Churn',hue=\"gender\")\n",
        "plt.title(\"TotalChargess vs Churns\")"
      ],
      "metadata": {
        "id": "W_2JsU12Qdp3"
      },
      "execution_count": null,
      "outputs": []
    },
    {
      "cell_type": "markdown",
      "source": [
        "Histogram"
      ],
      "metadata": {
        "id": "AsMFZUGpeJWn"
      }
    },
    {
      "cell_type": "code",
      "source": [
        "#Train\n",
        "df_train['PaymentMethod'].hist(bins=30)\n",
        "plt.title('Histogram of PaymentMethod')\n",
        "plt.xlabel('PaymentMethod')\n",
        "plt.ylabel('Frequency')\n",
        "plt.show()"
      ],
      "metadata": {
        "id": "VP5aPIanePQi"
      },
      "execution_count": null,
      "outputs": []
    },
    {
      "cell_type": "code",
      "source": [
        "#Test\n",
        "df_test['PaymentMethod'].hist(bins=30)\n",
        "plt.title('Histogram of PaymentMethod')\n",
        "plt.xlabel('PaymentMethod')\n",
        "plt.ylabel('Frequency')\n",
        "plt.show()"
      ],
      "metadata": {
        "id": "b_JePU_kDC0n"
      },
      "execution_count": null,
      "outputs": []
    },
    {
      "cell_type": "markdown",
      "source": [
        "kdeplot"
      ],
      "metadata": {
        "id": "q-TmhA9Hj8SP"
      }
    },
    {
      "cell_type": "code",
      "source": [
        "sns.kdeplot(df_train ['MonthlyCharges'].dropna())\n",
        "plt.title('KDE of MonthlyChargesMonthlyCharges')\n",
        "plt.show()"
      ],
      "metadata": {
        "id": "M0ch1LGHjXfb"
      },
      "execution_count": null,
      "outputs": []
    },
    {
      "cell_type": "markdown",
      "source": [
        "Pairplot"
      ],
      "metadata": {
        "id": "YoN-GgJkh8jh"
      }
    },
    {
      "cell_type": "code",
      "source": [
        "#used sns.pairplot() to plot relationships between all numeric features in the dataset\n",
        "sns.pairplot(data = df_train, hue = 'Churn')"
      ],
      "metadata": {
        "id": "6zp3gElgPg6K"
      },
      "execution_count": null,
      "outputs": []
    },
    {
      "cell_type": "code",
      "source": [
        "sns.pairplot(data = df_test, hue = 'Churn')"
      ],
      "metadata": {
        "id": "4FTiYAXdPu5o"
      },
      "execution_count": null,
      "outputs": []
    },
    {
      "cell_type": "code",
      "source": [
        "df_train_num = df_train.select_dtypes(include=['int64','float64'])\n",
        "df_train_num.head()"
      ],
      "metadata": {
        "id": "yvuSj_YlQGEH"
      },
      "execution_count": null,
      "outputs": []
    },
    {
      "cell_type": "markdown",
      "source": [
        "Visualize Correlation Matrix (Heatmap)"
      ],
      "metadata": {
        "id": "HAnBq_WulWZH"
      }
    },
    {
      "cell_type": "code",
      "source": [
        "corr_matrix = df_train_num.corr()\n",
        "corr_matrix"
      ],
      "metadata": {
        "id": "rkjgPPJXQBDF"
      },
      "execution_count": null,
      "outputs": []
    },
    {
      "cell_type": "code",
      "source": [
        "#heatmap of correalation matrix\n",
        "sns.heatmap(corr_matrix, annot=True, cmap='coolwarm')"
      ],
      "metadata": {
        "id": "KG9tM_BcQTd5"
      },
      "execution_count": null,
      "outputs": []
    },
    {
      "cell_type": "markdown",
      "source": [
        "# Data Preprocessing"
      ],
      "metadata": {
        "id": "79CvTsdm0_Ei"
      }
    },
    {
      "cell_type": "markdown",
      "source": [
        "## Missing values handling"
      ],
      "metadata": {
        "id": "jiTj0eGzzMwt"
      }
    },
    {
      "cell_type": "code",
      "source": [
        "df_train.isna().sum()"
      ],
      "metadata": {
        "id": "kgWtQdOG1NM6"
      },
      "execution_count": null,
      "outputs": []
    },
    {
      "cell_type": "code",
      "source": [
        "df_train['gender']=df_train['gender'].fillna(df_train['gender'].mode()[0])"
      ],
      "metadata": {
        "id": "qqVKkF9_zLgn"
      },
      "execution_count": null,
      "outputs": []
    },
    {
      "cell_type": "code",
      "source": [
        "df_train['OnlineSecurity']=df_train['OnlineSecurity'].fillna(df_train['OnlineSecurity'].mode()[0])"
      ],
      "metadata": {
        "id": "mmcRGAeK1uJU"
      },
      "execution_count": null,
      "outputs": []
    },
    {
      "cell_type": "code",
      "source": [
        "df_train['MonthlyCharges']=df_train['MonthlyCharges'].fillna(df_train['MonthlyCharges'].mean())"
      ],
      "metadata": {
        "id": "zxdxGGb82hn5"
      },
      "execution_count": null,
      "outputs": []
    },
    {
      "cell_type": "code",
      "source": [
        "df_train['TotalCharges']=df_train['TotalCharges'].fillna(df_train['TotalCharges'].mode()[0])"
      ],
      "metadata": {
        "id": "5s8mFcmD2r5o"
      },
      "execution_count": null,
      "outputs": []
    },
    {
      "cell_type": "code",
      "source": [
        "df_train.isna().sum()"
      ],
      "metadata": {
        "id": "zVecifTE261Y"
      },
      "execution_count": null,
      "outputs": []
    },
    {
      "cell_type": "markdown",
      "source": [
        "## Feature Engineering"
      ],
      "metadata": {
        "id": "bU2wh_YifkFR"
      }
    },
    {
      "cell_type": "code",
      "source": [
        "df_train['TotalCharges'] = pd.to_numeric(df_train['TotalCharges'], errors='coerce')"
      ],
      "metadata": {
        "id": "T7cVI5uB7Lus"
      },
      "execution_count": null,
      "outputs": []
    },
    {
      "cell_type": "code",
      "source": [
        "df_test['TotalCharges'] = pd.to_numeric(df_test['TotalCharges'], errors='coerce')"
      ],
      "metadata": {
        "id": "y5JsBN2_fpw1"
      },
      "execution_count": null,
      "outputs": []
    },
    {
      "cell_type": "code",
      "source": [
        "# Convert Contract type to numeric (if needed)\n",
        "df_train['Contract'] = df_train['Contract'].map({'Month-to-month': 1, 'One year': 12, 'Two year': 24})\n",
        "\n",
        "# Create interaction feature\n",
        "df_train['Tenure_Contract'] = df_train['tenure'] * df_train['Contract']"
      ],
      "metadata": {
        "id": "I03skBEfLasy"
      },
      "execution_count": null,
      "outputs": []
    },
    {
      "cell_type": "code",
      "source": [
        "df_train['CLV'] = df_train['tenure'] * df_train['MonthlyCharges']"
      ],
      "metadata": {
        "id": "wAQOs5kHLwhM"
      },
      "execution_count": null,
      "outputs": []
    },
    {
      "cell_type": "code",
      "source": [
        "#Convert Contract type to numeric (if needed)\n",
        "df_test['Contract'] = df_test['Contract'].map({'Month-to-month': 1, 'One year': 12, 'Two year': 24})\n",
        "\n",
        "# Create interaction feature\n",
        "df_test['Tenure_Contract'] = df_test['tenure'] * df_test['Contract']"
      ],
      "metadata": {
        "id": "L34t4lBeL4ie"
      },
      "execution_count": null,
      "outputs": []
    },
    {
      "cell_type": "code",
      "source": [
        "df_test['CLV'] = df_test['tenure'] * df_test['MonthlyCharges']"
      ],
      "metadata": {
        "id": "4PMuJ64CL_WP"
      },
      "execution_count": null,
      "outputs": []
    },
    {
      "cell_type": "markdown",
      "source": [
        "## Scaling"
      ],
      "metadata": {
        "id": "VEKMn_3vJB_c"
      }
    },
    {
      "cell_type": "code",
      "source": [
        "min_scale = MinMaxScaler()\n",
        "num_cols = ['SeniorCitizen','tenure',\n",
        "   'MonthlyCharges',\n",
        "   'TotalCharges']\n",
        "df_train[num_cols] = min_scale.fit_transform(df_train[num_cols])\n",
        "df_train"
      ],
      "metadata": {
        "id": "y-l5J8FGMISX"
      },
      "execution_count": null,
      "outputs": []
    },
    {
      "cell_type": "code",
      "source": [
        "min_scale = MinMaxScaler()\n",
        "num_cols = ['SeniorCitizen','tenure',\n",
        "   'MonthlyCharges','TotalCharges']\n",
        "df_test[num_cols] = min_scale.fit_transform(df_test[num_cols])\n",
        "df_test"
      ],
      "metadata": {
        "id": "ROyzLeOQb9L2"
      },
      "execution_count": null,
      "outputs": []
    },
    {
      "cell_type": "markdown",
      "source": [
        "## Encoding Categorical values"
      ],
      "metadata": {
        "id": "OufPFwnPP43y"
      }
    },
    {
      "cell_type": "code",
      "source": [
        "df_train.info()"
      ],
      "metadata": {
        "id": "BjMSvIoSP4dC"
      },
      "execution_count": null,
      "outputs": []
    },
    {
      "cell_type": "code",
      "source": [
        "label_enc=LabelEncoder()\n",
        "df_train['gender']=label_enc.fit_transform(df_train['gender'])\n",
        "df_train"
      ],
      "metadata": {
        "id": "pmc22ns_Rr-X"
      },
      "execution_count": null,
      "outputs": []
    },
    {
      "cell_type": "code",
      "source": [
        "label_enc=LabelEncoder()\n",
        "df_train['Partner']=label_enc.fit_transform(df_train['Partner'])"
      ],
      "metadata": {
        "id": "fEYNHTftSljb"
      },
      "execution_count": null,
      "outputs": []
    },
    {
      "cell_type": "code",
      "source": [
        "df_train['Dependents']=label_enc.fit_transform(df_train['Dependents'])"
      ],
      "metadata": {
        "id": "_Ewuf_2WTMSY"
      },
      "execution_count": null,
      "outputs": []
    },
    {
      "cell_type": "code",
      "source": [
        "df_train['PhoneService']=label_enc.fit_transform(df_train['PhoneService'])"
      ],
      "metadata": {
        "id": "sOr04Ji0TUyW"
      },
      "execution_count": null,
      "outputs": []
    },
    {
      "cell_type": "code",
      "source": [
        "df_train['PaperlessBilling']=label_enc.fit_transform(df_train['PaperlessBilling'])"
      ],
      "metadata": {
        "id": "9dV-usyiTlC8"
      },
      "execution_count": null,
      "outputs": []
    },
    {
      "cell_type": "code",
      "source": [
        "df_train['Churn']=label_enc.fit_transform(df_train['Churn'])\n",
        "df_train"
      ],
      "metadata": {
        "id": "KclHIulJTxJX"
      },
      "execution_count": null,
      "outputs": []
    },
    {
      "cell_type": "code",
      "source": [
        "df_train= pd.get_dummies(df_train, columns = ['InternetService','Contract','PaymentMethod'],dtype=int,prefix=['Internetservice','Contract','Paymentmethod'])\n",
        "df_train"
      ],
      "metadata": {
        "id": "z1V2rBGKbDu9"
      },
      "execution_count": null,
      "outputs": []
    },
    {
      "cell_type": "code",
      "source": [
        "df_train.info()"
      ],
      "metadata": {
        "id": "y6s5ILi_W-yJ"
      },
      "execution_count": null,
      "outputs": []
    },
    {
      "cell_type": "code",
      "source": [
        "df_train['MultipleLines'] = df_train['MultipleLines'].str.lower().map({'yes': 1, 'no': 0})\n",
        "df_train['OnlineSecurity'] = df_train['OnlineSecurity'].str.lower().map({'yes': 1, 'no': 0})\n",
        "df_train['OnlineBackup'] = df_train['OnlineBackup'].str.lower().map({'yes': 1, 'no': 0})\n",
        "df_train['DeviceProtection'] = df_train['DeviceProtection'].str.lower().map({'yes': 1, 'no': 0})\n",
        "df_train['TechSupport'] = df_train['TechSupport'].str.lower().map({'yes': 1, 'no': 0})\n",
        "df_train['StreamingTV'] = df_train['StreamingTV'].str.lower().map({'yes': 1, 'no': 0})\n",
        "df_train['StreamingMovies'] = df_train['StreamingMovies'].str.lower().map({'yes': 1, 'no': 0})"
      ],
      "metadata": {
        "id": "ju5CdOPCiOPn"
      },
      "execution_count": null,
      "outputs": []
    },
    {
      "cell_type": "code",
      "source": [
        "df_train.drop('customerID',axis=1,inplace=True)"
      ],
      "metadata": {
        "id": "xfqMQYelkrvy"
      },
      "execution_count": null,
      "outputs": []
    },
    {
      "cell_type": "code",
      "source": [
        "df_train.info()"
      ],
      "metadata": {
        "id": "djmzxiQWknX5"
      },
      "execution_count": null,
      "outputs": []
    },
    {
      "cell_type": "code",
      "source": [
        "df_train"
      ],
      "metadata": {
        "id": "2xMJqjpxlWcr"
      },
      "execution_count": null,
      "outputs": []
    },
    {
      "cell_type": "code",
      "source": [
        "df_train.isna().sum()"
      ],
      "metadata": {
        "id": "nZ3occePljph"
      },
      "execution_count": null,
      "outputs": []
    },
    {
      "cell_type": "code",
      "source": [
        "df_train = df_train.apply(pd.to_numeric, errors='coerce')\n",
        "\n",
        "columns_to_impute_mode = ['MultipleLines', 'OnlineSecurity', 'OnlineBackup', 'DeviceProtection', 'TechSupport', 'StreamingTV', 'StreamingMovies']\n",
        "for col in columns_to_impute_mode:\n",
        "    df_train[col] = df_train[col].fillna(df_train[col].mode()[0])\n",
        "\n",
        "df_train['TotalCharges']=df_train['TotalCharges'].fillna(df_train['TotalCharges'].median())"
      ],
      "metadata": {
        "id": "4CiAKo2ul-Av"
      },
      "execution_count": null,
      "outputs": []
    },
    {
      "cell_type": "code",
      "source": [
        "df_train.isna().sum()"
      ],
      "metadata": {
        "id": "kH_YD9ZdowAn"
      },
      "execution_count": null,
      "outputs": []
    },
    {
      "cell_type": "code",
      "source": [
        "df_test.info()"
      ],
      "metadata": {
        "id": "LDN768pi1Aep"
      },
      "execution_count": null,
      "outputs": []
    },
    {
      "cell_type": "code",
      "source": [
        "label_enc=LabelEncoder()\n",
        "df_test['Partner']=label_enc.fit_transform(df_test['Partner'])"
      ],
      "metadata": {
        "id": "pKMZMlrq1uO9"
      },
      "execution_count": null,
      "outputs": []
    },
    {
      "cell_type": "code",
      "source": [
        "df_test['gender']=label_enc.fit_transform(df_test['gender'])"
      ],
      "metadata": {
        "id": "CLNt5h6E7_WJ"
      },
      "execution_count": null,
      "outputs": []
    },
    {
      "cell_type": "code",
      "source": [
        "df_test['Dependents']=label_enc.fit_transform(df_test['Dependents'])"
      ],
      "metadata": {
        "id": "WiOrUBY-16t1"
      },
      "execution_count": null,
      "outputs": []
    },
    {
      "cell_type": "code",
      "source": [
        "df_test['PhoneService']=label_enc.fit_transform(df_test['PhoneService'])"
      ],
      "metadata": {
        "id": "8JHkpG_Q1-A3"
      },
      "execution_count": null,
      "outputs": []
    },
    {
      "cell_type": "code",
      "source": [
        "df_test['PaperlessBilling']=label_enc.fit_transform(df_test['PaperlessBilling'])"
      ],
      "metadata": {
        "id": "WXtApsD52GIs"
      },
      "execution_count": null,
      "outputs": []
    },
    {
      "cell_type": "code",
      "source": [
        "df_test['Churn']=label_enc.fit_transform(df_test['Churn'])"
      ],
      "metadata": {
        "id": "AIQd0I5w2NUH"
      },
      "execution_count": null,
      "outputs": []
    },
    {
      "cell_type": "code",
      "source": [
        "df_test= pd.get_dummies(df_test, columns = ['InternetService','Contract','PaymentMethod'],dtype=int,prefix=['Internetservice','Contract','Paymentmethod'])"
      ],
      "metadata": {
        "id": "iL1jtW_7N4aP"
      },
      "execution_count": null,
      "outputs": []
    },
    {
      "cell_type": "code",
      "source": [
        "df_test.info()\n"
      ],
      "metadata": {
        "id": "jGXJApdi7w7E"
      },
      "execution_count": null,
      "outputs": []
    },
    {
      "cell_type": "code",
      "source": [
        "df_test['MultipleLines'] = df_test['MultipleLines'].str.lower().map({'yes': 1, 'no': 0})\n",
        "df_test['OnlineSecurity'] = df_test['OnlineSecurity'].str.lower().map({'yes': 1, 'no': 0})\n",
        "df_test['OnlineBackup'] = df_test['OnlineBackup'].str.lower().map({'yes': 1, 'no': 0})\n",
        "df_test['DeviceProtection'] = df_test['DeviceProtection'].str.lower().map({'yes': 1, 'no': 0})\n",
        "df_test['TechSupport'] = df_test['TechSupport'].str.lower().map({'yes': 1, 'no': 0})\n",
        "df_test['StreamingTV'] = df_test['StreamingTV'].str.lower().map({'yes': 1, 'no': 0})\n",
        "df_test['StreamingMovies'] = df_test['StreamingMovies'].str.lower().map({'yes': 1, 'no': 0})"
      ],
      "metadata": {
        "id": "sWneKdw5kzPU"
      },
      "execution_count": null,
      "outputs": []
    },
    {
      "cell_type": "code",
      "source": [
        "df_test.drop('customerID',axis=1,inplace=True)"
      ],
      "metadata": {
        "id": "KbUARyoW8JrK"
      },
      "execution_count": null,
      "outputs": []
    },
    {
      "cell_type": "code",
      "source": [
        "df_test.info()"
      ],
      "metadata": {
        "id": "ouQM8rMjrZHp"
      },
      "execution_count": null,
      "outputs": []
    },
    {
      "cell_type": "code",
      "source": [
        "df_test.isna().sum()"
      ],
      "metadata": {
        "id": "0enCgzacr52P"
      },
      "execution_count": null,
      "outputs": []
    },
    {
      "cell_type": "code",
      "source": [
        "df_test = df_test.apply(pd.to_numeric, errors='coerce')\n",
        "\n",
        "columns_to_impute_mode = ['MultipleLines', 'OnlineSecurity', 'OnlineBackup', 'DeviceProtection', 'TechSupport', 'StreamingTV', 'StreamingMovies']\n",
        "for col in columns_to_impute_mode:\n",
        "    df_test[col] = df_test[col].fillna(df_test[col].mode()[0])\n",
        "\n",
        "df_test['TotalCharges']=df_test['TotalCharges'].fillna(df_test['TotalCharges'].median())"
      ],
      "metadata": {
        "id": "AE6bbdzWsGtr"
      },
      "execution_count": null,
      "outputs": []
    },
    {
      "cell_type": "code",
      "source": [
        "df_test.isna().sum()"
      ],
      "metadata": {
        "id": "X6yLuNSysrgn"
      },
      "execution_count": null,
      "outputs": []
    },
    {
      "cell_type": "markdown",
      "source": [
        "# Model Building"
      ],
      "metadata": {
        "id": "44HWhreNHiXz"
      }
    },
    {
      "cell_type": "code",
      "source": [
        "X_train = df_train.drop('Churn', axis=1)\n",
        "y_train = df_train['Churn']\n",
        "\n",
        "X_test = df_test.drop('Churn', axis=1)\n",
        "y_test = df_test['Churn']\n",
        "\n",
        "# Convert TotalCharges to numeric, coercing errors to NaN\n",
        "X_train['TotalCharges'] = pd.to_numeric(X_train['TotalCharges'], errors='coerce')\n",
        "\n",
        "# Impute missing values in TotalCharges column in X_train with the median\n",
        "X_train['TotalCharges'] = X_train['TotalCharges'].fillna(X_train['TotalCharges'].median())"
      ],
      "metadata": {
        "id": "w2seWHq2HiCG"
      },
      "execution_count": null,
      "outputs": []
    },
    {
      "cell_type": "code",
      "source": [
        "log_model = LogisticRegression(max_iter=1000)\n",
        "rf_model = RandomForestClassifier()\n",
        "svm_model = SVC(probability=True)"
      ],
      "metadata": {
        "id": "Gbe7I9HXIRbo"
      },
      "execution_count": null,
      "outputs": []
    },
    {
      "cell_type": "code",
      "source": [
        "log_model.fit(X_train, y_train)\n",
        "rf_model.fit(X_train, y_train)\n",
        "svm_model.fit(X_train, y_train)"
      ],
      "metadata": {
        "id": "TLafyggJbvl6"
      },
      "execution_count": null,
      "outputs": []
    },
    {
      "cell_type": "markdown",
      "source": [
        "# Model Evaluation"
      ],
      "metadata": {
        "id": "TqN1WcOEdDL6"
      }
    },
    {
      "cell_type": "code",
      "source": [
        "def evaluate_model(model, name):\n",
        "    y_pred = model.predict(X_test)\n",
        "    y_proba = model.predict_proba(X_test)[:, 1] if hasattr(model, \"predict_proba\") else None\n",
        "\n",
        "    print(f\"\\n📌 Evaluation for {name}\")\n",
        "    print(f\"Accuracy  : {accuracy_score(y_test, y_pred):.4f}\")\n",
        "    print(f\"Precision : {precision_score(y_test, y_pred):.4f}\")\n",
        "    print(f\"Recall    : {recall_score(y_test, y_pred):.4f}\")\n",
        "    print(f\"F1 Score  : {f1_score(y_test, y_pred):.4f}\")\n",
        "\n",
        "\n",
        "# Evaluate each\n",
        "evaluate_model(log_model, \"Logistic Regression\")\n",
        "evaluate_model(rf_model, \"Random Forest\")\n",
        "evaluate_model(svm_model, \"Support Vector Machine\")\n"
      ],
      "metadata": {
        "id": "e5q0IKjnbyyW"
      },
      "execution_count": null,
      "outputs": []
    },
    {
      "cell_type": "markdown",
      "source": [
        "## Model Tuning"
      ],
      "metadata": {
        "id": "BxgrJTPreSYd"
      }
    },
    {
      "cell_type": "markdown",
      "source": [
        "Fine tuning with Randomized search cv"
      ],
      "metadata": {
        "id": "fB_UVp5pepo8"
      }
    },
    {
      "cell_type": "code",
      "source": [
        "param_dist = {\n",
        "    'n_estimators': [100, 200, 300, 400, 500],\n",
        "    'max_depth': [5, 10, 15, 20, None],\n",
        "    'min_samples_split': [2, 5, 10],\n",
        "    'min_samples_leaf': [1, 2, 4],\n",
        "    'max_features': ['sqrt', 'log2', None],\n",
        "    'bootstrap': [True, False]\n",
        "}\n",
        "\n"
      ],
      "metadata": {
        "id": "TfxzIITPd8t3"
      },
      "execution_count": null,
      "outputs": []
    },
    {
      "cell_type": "markdown",
      "source": [
        "Model implementation with RandomForestClassifier"
      ],
      "metadata": {
        "id": "WBsH599nfXsa"
      }
    },
    {
      "cell_type": "code",
      "source": [
        "rf = RandomForestClassifier(random_state=42)\n",
        "random_search = RandomizedSearchCV(\n",
        "    estimator=rf,\n",
        "    param_distributions=param_dist,\n",
        "    n_iter=50,             # number of random combinations to try\n",
        "    cv=5,                  # 5-fold cross-validation\n",
        "    scoring='f1',          # or 'roc_auc' depending on your goal\n",
        "    verbose=1,\n",
        "    n_jobs=-1,\n",
        "    random_state=42\n",
        ")\n",
        "random_search.fit(X_train, y_train)"
      ],
      "metadata": {
        "colab": {
          "base_uri": "https://localhost:8080/",
          "height": 183
        },
        "id": "CLJiiAkre9Zo",
        "outputId": "30f68273-3972-4a2a-c36b-db43a6f11de9"
      },
      "execution_count": 93,
      "outputs": [
        {
          "metadata": {
            "tags": null
          },
          "name": "stdout",
          "output_type": "stream",
          "text": [
            "Fitting 5 folds for each of 50 candidates, totalling 250 fits\n"
          ]
        },
        {
          "output_type": "execute_result",
          "data": {
            "text/plain": [
              "RandomizedSearchCV(cv=5, estimator=RandomForestClassifier(random_state=42),\n",
              "                   n_iter=50, n_jobs=-1,\n",
              "                   param_distributions={'bootstrap': [True, False],\n",
              "                                        'max_depth': [5, 10, 15, 20, None],\n",
              "                                        'max_features': ['sqrt', 'log2', None],\n",
              "                                        'min_samples_leaf': [1, 2, 4],\n",
              "                                        'min_samples_split': [2, 5, 10],\n",
              "                                        'n_estimators': [100, 200, 300, 400,\n",
              "                                                         500]},\n",
              "                   random_state=42, scoring='f1', verbose=1)"
            ],
            "text/html": [
              "<style>#sk-container-id-2 {\n",
              "  /* Definition of color scheme common for light and dark mode */\n",
              "  --sklearn-color-text: #000;\n",
              "  --sklearn-color-text-muted: #666;\n",
              "  --sklearn-color-line: gray;\n",
              "  /* Definition of color scheme for unfitted estimators */\n",
              "  --sklearn-color-unfitted-level-0: #fff5e6;\n",
              "  --sklearn-color-unfitted-level-1: #f6e4d2;\n",
              "  --sklearn-color-unfitted-level-2: #ffe0b3;\n",
              "  --sklearn-color-unfitted-level-3: chocolate;\n",
              "  /* Definition of color scheme for fitted estimators */\n",
              "  --sklearn-color-fitted-level-0: #f0f8ff;\n",
              "  --sklearn-color-fitted-level-1: #d4ebff;\n",
              "  --sklearn-color-fitted-level-2: #b3dbfd;\n",
              "  --sklearn-color-fitted-level-3: cornflowerblue;\n",
              "\n",
              "  /* Specific color for light theme */\n",
              "  --sklearn-color-text-on-default-background: var(--sg-text-color, var(--theme-code-foreground, var(--jp-content-font-color1, black)));\n",
              "  --sklearn-color-background: var(--sg-background-color, var(--theme-background, var(--jp-layout-color0, white)));\n",
              "  --sklearn-color-border-box: var(--sg-text-color, var(--theme-code-foreground, var(--jp-content-font-color1, black)));\n",
              "  --sklearn-color-icon: #696969;\n",
              "\n",
              "  @media (prefers-color-scheme: dark) {\n",
              "    /* Redefinition of color scheme for dark theme */\n",
              "    --sklearn-color-text-on-default-background: var(--sg-text-color, var(--theme-code-foreground, var(--jp-content-font-color1, white)));\n",
              "    --sklearn-color-background: var(--sg-background-color, var(--theme-background, var(--jp-layout-color0, #111)));\n",
              "    --sklearn-color-border-box: var(--sg-text-color, var(--theme-code-foreground, var(--jp-content-font-color1, white)));\n",
              "    --sklearn-color-icon: #878787;\n",
              "  }\n",
              "}\n",
              "\n",
              "#sk-container-id-2 {\n",
              "  color: var(--sklearn-color-text);\n",
              "}\n",
              "\n",
              "#sk-container-id-2 pre {\n",
              "  padding: 0;\n",
              "}\n",
              "\n",
              "#sk-container-id-2 input.sk-hidden--visually {\n",
              "  border: 0;\n",
              "  clip: rect(1px 1px 1px 1px);\n",
              "  clip: rect(1px, 1px, 1px, 1px);\n",
              "  height: 1px;\n",
              "  margin: -1px;\n",
              "  overflow: hidden;\n",
              "  padding: 0;\n",
              "  position: absolute;\n",
              "  width: 1px;\n",
              "}\n",
              "\n",
              "#sk-container-id-2 div.sk-dashed-wrapped {\n",
              "  border: 1px dashed var(--sklearn-color-line);\n",
              "  margin: 0 0.4em 0.5em 0.4em;\n",
              "  box-sizing: border-box;\n",
              "  padding-bottom: 0.4em;\n",
              "  background-color: var(--sklearn-color-background);\n",
              "}\n",
              "\n",
              "#sk-container-id-2 div.sk-container {\n",
              "  /* jupyter's `normalize.less` sets `[hidden] { display: none; }`\n",
              "     but bootstrap.min.css set `[hidden] { display: none !important; }`\n",
              "     so we also need the `!important` here to be able to override the\n",
              "     default hidden behavior on the sphinx rendered scikit-learn.org.\n",
              "     See: https://github.com/scikit-learn/scikit-learn/issues/21755 */\n",
              "  display: inline-block !important;\n",
              "  position: relative;\n",
              "}\n",
              "\n",
              "#sk-container-id-2 div.sk-text-repr-fallback {\n",
              "  display: none;\n",
              "}\n",
              "\n",
              "div.sk-parallel-item,\n",
              "div.sk-serial,\n",
              "div.sk-item {\n",
              "  /* draw centered vertical line to link estimators */\n",
              "  background-image: linear-gradient(var(--sklearn-color-text-on-default-background), var(--sklearn-color-text-on-default-background));\n",
              "  background-size: 2px 100%;\n",
              "  background-repeat: no-repeat;\n",
              "  background-position: center center;\n",
              "}\n",
              "\n",
              "/* Parallel-specific style estimator block */\n",
              "\n",
              "#sk-container-id-2 div.sk-parallel-item::after {\n",
              "  content: \"\";\n",
              "  width: 100%;\n",
              "  border-bottom: 2px solid var(--sklearn-color-text-on-default-background);\n",
              "  flex-grow: 1;\n",
              "}\n",
              "\n",
              "#sk-container-id-2 div.sk-parallel {\n",
              "  display: flex;\n",
              "  align-items: stretch;\n",
              "  justify-content: center;\n",
              "  background-color: var(--sklearn-color-background);\n",
              "  position: relative;\n",
              "}\n",
              "\n",
              "#sk-container-id-2 div.sk-parallel-item {\n",
              "  display: flex;\n",
              "  flex-direction: column;\n",
              "}\n",
              "\n",
              "#sk-container-id-2 div.sk-parallel-item:first-child::after {\n",
              "  align-self: flex-end;\n",
              "  width: 50%;\n",
              "}\n",
              "\n",
              "#sk-container-id-2 div.sk-parallel-item:last-child::after {\n",
              "  align-self: flex-start;\n",
              "  width: 50%;\n",
              "}\n",
              "\n",
              "#sk-container-id-2 div.sk-parallel-item:only-child::after {\n",
              "  width: 0;\n",
              "}\n",
              "\n",
              "/* Serial-specific style estimator block */\n",
              "\n",
              "#sk-container-id-2 div.sk-serial {\n",
              "  display: flex;\n",
              "  flex-direction: column;\n",
              "  align-items: center;\n",
              "  background-color: var(--sklearn-color-background);\n",
              "  padding-right: 1em;\n",
              "  padding-left: 1em;\n",
              "}\n",
              "\n",
              "\n",
              "/* Toggleable style: style used for estimator/Pipeline/ColumnTransformer box that is\n",
              "clickable and can be expanded/collapsed.\n",
              "- Pipeline and ColumnTransformer use this feature and define the default style\n",
              "- Estimators will overwrite some part of the style using the `sk-estimator` class\n",
              "*/\n",
              "\n",
              "/* Pipeline and ColumnTransformer style (default) */\n",
              "\n",
              "#sk-container-id-2 div.sk-toggleable {\n",
              "  /* Default theme specific background. It is overwritten whether we have a\n",
              "  specific estimator or a Pipeline/ColumnTransformer */\n",
              "  background-color: var(--sklearn-color-background);\n",
              "}\n",
              "\n",
              "/* Toggleable label */\n",
              "#sk-container-id-2 label.sk-toggleable__label {\n",
              "  cursor: pointer;\n",
              "  display: flex;\n",
              "  width: 100%;\n",
              "  margin-bottom: 0;\n",
              "  padding: 0.5em;\n",
              "  box-sizing: border-box;\n",
              "  text-align: center;\n",
              "  align-items: start;\n",
              "  justify-content: space-between;\n",
              "  gap: 0.5em;\n",
              "}\n",
              "\n",
              "#sk-container-id-2 label.sk-toggleable__label .caption {\n",
              "  font-size: 0.6rem;\n",
              "  font-weight: lighter;\n",
              "  color: var(--sklearn-color-text-muted);\n",
              "}\n",
              "\n",
              "#sk-container-id-2 label.sk-toggleable__label-arrow:before {\n",
              "  /* Arrow on the left of the label */\n",
              "  content: \"▸\";\n",
              "  float: left;\n",
              "  margin-right: 0.25em;\n",
              "  color: var(--sklearn-color-icon);\n",
              "}\n",
              "\n",
              "#sk-container-id-2 label.sk-toggleable__label-arrow:hover:before {\n",
              "  color: var(--sklearn-color-text);\n",
              "}\n",
              "\n",
              "/* Toggleable content - dropdown */\n",
              "\n",
              "#sk-container-id-2 div.sk-toggleable__content {\n",
              "  max-height: 0;\n",
              "  max-width: 0;\n",
              "  overflow: hidden;\n",
              "  text-align: left;\n",
              "  /* unfitted */\n",
              "  background-color: var(--sklearn-color-unfitted-level-0);\n",
              "}\n",
              "\n",
              "#sk-container-id-2 div.sk-toggleable__content.fitted {\n",
              "  /* fitted */\n",
              "  background-color: var(--sklearn-color-fitted-level-0);\n",
              "}\n",
              "\n",
              "#sk-container-id-2 div.sk-toggleable__content pre {\n",
              "  margin: 0.2em;\n",
              "  border-radius: 0.25em;\n",
              "  color: var(--sklearn-color-text);\n",
              "  /* unfitted */\n",
              "  background-color: var(--sklearn-color-unfitted-level-0);\n",
              "}\n",
              "\n",
              "#sk-container-id-2 div.sk-toggleable__content.fitted pre {\n",
              "  /* unfitted */\n",
              "  background-color: var(--sklearn-color-fitted-level-0);\n",
              "}\n",
              "\n",
              "#sk-container-id-2 input.sk-toggleable__control:checked~div.sk-toggleable__content {\n",
              "  /* Expand drop-down */\n",
              "  max-height: 200px;\n",
              "  max-width: 100%;\n",
              "  overflow: auto;\n",
              "}\n",
              "\n",
              "#sk-container-id-2 input.sk-toggleable__control:checked~label.sk-toggleable__label-arrow:before {\n",
              "  content: \"▾\";\n",
              "}\n",
              "\n",
              "/* Pipeline/ColumnTransformer-specific style */\n",
              "\n",
              "#sk-container-id-2 div.sk-label input.sk-toggleable__control:checked~label.sk-toggleable__label {\n",
              "  color: var(--sklearn-color-text);\n",
              "  background-color: var(--sklearn-color-unfitted-level-2);\n",
              "}\n",
              "\n",
              "#sk-container-id-2 div.sk-label.fitted input.sk-toggleable__control:checked~label.sk-toggleable__label {\n",
              "  background-color: var(--sklearn-color-fitted-level-2);\n",
              "}\n",
              "\n",
              "/* Estimator-specific style */\n",
              "\n",
              "/* Colorize estimator box */\n",
              "#sk-container-id-2 div.sk-estimator input.sk-toggleable__control:checked~label.sk-toggleable__label {\n",
              "  /* unfitted */\n",
              "  background-color: var(--sklearn-color-unfitted-level-2);\n",
              "}\n",
              "\n",
              "#sk-container-id-2 div.sk-estimator.fitted input.sk-toggleable__control:checked~label.sk-toggleable__label {\n",
              "  /* fitted */\n",
              "  background-color: var(--sklearn-color-fitted-level-2);\n",
              "}\n",
              "\n",
              "#sk-container-id-2 div.sk-label label.sk-toggleable__label,\n",
              "#sk-container-id-2 div.sk-label label {\n",
              "  /* The background is the default theme color */\n",
              "  color: var(--sklearn-color-text-on-default-background);\n",
              "}\n",
              "\n",
              "/* On hover, darken the color of the background */\n",
              "#sk-container-id-2 div.sk-label:hover label.sk-toggleable__label {\n",
              "  color: var(--sklearn-color-text);\n",
              "  background-color: var(--sklearn-color-unfitted-level-2);\n",
              "}\n",
              "\n",
              "/* Label box, darken color on hover, fitted */\n",
              "#sk-container-id-2 div.sk-label.fitted:hover label.sk-toggleable__label.fitted {\n",
              "  color: var(--sklearn-color-text);\n",
              "  background-color: var(--sklearn-color-fitted-level-2);\n",
              "}\n",
              "\n",
              "/* Estimator label */\n",
              "\n",
              "#sk-container-id-2 div.sk-label label {\n",
              "  font-family: monospace;\n",
              "  font-weight: bold;\n",
              "  display: inline-block;\n",
              "  line-height: 1.2em;\n",
              "}\n",
              "\n",
              "#sk-container-id-2 div.sk-label-container {\n",
              "  text-align: center;\n",
              "}\n",
              "\n",
              "/* Estimator-specific */\n",
              "#sk-container-id-2 div.sk-estimator {\n",
              "  font-family: monospace;\n",
              "  border: 1px dotted var(--sklearn-color-border-box);\n",
              "  border-radius: 0.25em;\n",
              "  box-sizing: border-box;\n",
              "  margin-bottom: 0.5em;\n",
              "  /* unfitted */\n",
              "  background-color: var(--sklearn-color-unfitted-level-0);\n",
              "}\n",
              "\n",
              "#sk-container-id-2 div.sk-estimator.fitted {\n",
              "  /* fitted */\n",
              "  background-color: var(--sklearn-color-fitted-level-0);\n",
              "}\n",
              "\n",
              "/* on hover */\n",
              "#sk-container-id-2 div.sk-estimator:hover {\n",
              "  /* unfitted */\n",
              "  background-color: var(--sklearn-color-unfitted-level-2);\n",
              "}\n",
              "\n",
              "#sk-container-id-2 div.sk-estimator.fitted:hover {\n",
              "  /* fitted */\n",
              "  background-color: var(--sklearn-color-fitted-level-2);\n",
              "}\n",
              "\n",
              "/* Specification for estimator info (e.g. \"i\" and \"?\") */\n",
              "\n",
              "/* Common style for \"i\" and \"?\" */\n",
              "\n",
              ".sk-estimator-doc-link,\n",
              "a:link.sk-estimator-doc-link,\n",
              "a:visited.sk-estimator-doc-link {\n",
              "  float: right;\n",
              "  font-size: smaller;\n",
              "  line-height: 1em;\n",
              "  font-family: monospace;\n",
              "  background-color: var(--sklearn-color-background);\n",
              "  border-radius: 1em;\n",
              "  height: 1em;\n",
              "  width: 1em;\n",
              "  text-decoration: none !important;\n",
              "  margin-left: 0.5em;\n",
              "  text-align: center;\n",
              "  /* unfitted */\n",
              "  border: var(--sklearn-color-unfitted-level-1) 1pt solid;\n",
              "  color: var(--sklearn-color-unfitted-level-1);\n",
              "}\n",
              "\n",
              ".sk-estimator-doc-link.fitted,\n",
              "a:link.sk-estimator-doc-link.fitted,\n",
              "a:visited.sk-estimator-doc-link.fitted {\n",
              "  /* fitted */\n",
              "  border: var(--sklearn-color-fitted-level-1) 1pt solid;\n",
              "  color: var(--sklearn-color-fitted-level-1);\n",
              "}\n",
              "\n",
              "/* On hover */\n",
              "div.sk-estimator:hover .sk-estimator-doc-link:hover,\n",
              ".sk-estimator-doc-link:hover,\n",
              "div.sk-label-container:hover .sk-estimator-doc-link:hover,\n",
              ".sk-estimator-doc-link:hover {\n",
              "  /* unfitted */\n",
              "  background-color: var(--sklearn-color-unfitted-level-3);\n",
              "  color: var(--sklearn-color-background);\n",
              "  text-decoration: none;\n",
              "}\n",
              "\n",
              "div.sk-estimator.fitted:hover .sk-estimator-doc-link.fitted:hover,\n",
              ".sk-estimator-doc-link.fitted:hover,\n",
              "div.sk-label-container:hover .sk-estimator-doc-link.fitted:hover,\n",
              ".sk-estimator-doc-link.fitted:hover {\n",
              "  /* fitted */\n",
              "  background-color: var(--sklearn-color-fitted-level-3);\n",
              "  color: var(--sklearn-color-background);\n",
              "  text-decoration: none;\n",
              "}\n",
              "\n",
              "/* Span, style for the box shown on hovering the info icon */\n",
              ".sk-estimator-doc-link span {\n",
              "  display: none;\n",
              "  z-index: 9999;\n",
              "  position: relative;\n",
              "  font-weight: normal;\n",
              "  right: .2ex;\n",
              "  padding: .5ex;\n",
              "  margin: .5ex;\n",
              "  width: min-content;\n",
              "  min-width: 20ex;\n",
              "  max-width: 50ex;\n",
              "  color: var(--sklearn-color-text);\n",
              "  box-shadow: 2pt 2pt 4pt #999;\n",
              "  /* unfitted */\n",
              "  background: var(--sklearn-color-unfitted-level-0);\n",
              "  border: .5pt solid var(--sklearn-color-unfitted-level-3);\n",
              "}\n",
              "\n",
              ".sk-estimator-doc-link.fitted span {\n",
              "  /* fitted */\n",
              "  background: var(--sklearn-color-fitted-level-0);\n",
              "  border: var(--sklearn-color-fitted-level-3);\n",
              "}\n",
              "\n",
              ".sk-estimator-doc-link:hover span {\n",
              "  display: block;\n",
              "}\n",
              "\n",
              "/* \"?\"-specific style due to the `<a>` HTML tag */\n",
              "\n",
              "#sk-container-id-2 a.estimator_doc_link {\n",
              "  float: right;\n",
              "  font-size: 1rem;\n",
              "  line-height: 1em;\n",
              "  font-family: monospace;\n",
              "  background-color: var(--sklearn-color-background);\n",
              "  border-radius: 1rem;\n",
              "  height: 1rem;\n",
              "  width: 1rem;\n",
              "  text-decoration: none;\n",
              "  /* unfitted */\n",
              "  color: var(--sklearn-color-unfitted-level-1);\n",
              "  border: var(--sklearn-color-unfitted-level-1) 1pt solid;\n",
              "}\n",
              "\n",
              "#sk-container-id-2 a.estimator_doc_link.fitted {\n",
              "  /* fitted */\n",
              "  border: var(--sklearn-color-fitted-level-1) 1pt solid;\n",
              "  color: var(--sklearn-color-fitted-level-1);\n",
              "}\n",
              "\n",
              "/* On hover */\n",
              "#sk-container-id-2 a.estimator_doc_link:hover {\n",
              "  /* unfitted */\n",
              "  background-color: var(--sklearn-color-unfitted-level-3);\n",
              "  color: var(--sklearn-color-background);\n",
              "  text-decoration: none;\n",
              "}\n",
              "\n",
              "#sk-container-id-2 a.estimator_doc_link.fitted:hover {\n",
              "  /* fitted */\n",
              "  background-color: var(--sklearn-color-fitted-level-3);\n",
              "}\n",
              "</style><div id=\"sk-container-id-2\" class=\"sk-top-container\"><div class=\"sk-text-repr-fallback\"><pre>RandomizedSearchCV(cv=5, estimator=RandomForestClassifier(random_state=42),\n",
              "                   n_iter=50, n_jobs=-1,\n",
              "                   param_distributions={&#x27;bootstrap&#x27;: [True, False],\n",
              "                                        &#x27;max_depth&#x27;: [5, 10, 15, 20, None],\n",
              "                                        &#x27;max_features&#x27;: [&#x27;sqrt&#x27;, &#x27;log2&#x27;, None],\n",
              "                                        &#x27;min_samples_leaf&#x27;: [1, 2, 4],\n",
              "                                        &#x27;min_samples_split&#x27;: [2, 5, 10],\n",
              "                                        &#x27;n_estimators&#x27;: [100, 200, 300, 400,\n",
              "                                                         500]},\n",
              "                   random_state=42, scoring=&#x27;f1&#x27;, verbose=1)</pre><b>In a Jupyter environment, please rerun this cell to show the HTML representation or trust the notebook. <br />On GitHub, the HTML representation is unable to render, please try loading this page with nbviewer.org.</b></div><div class=\"sk-container\" hidden><div class=\"sk-item sk-dashed-wrapped\"><div class=\"sk-label-container\"><div class=\"sk-label fitted sk-toggleable\"><input class=\"sk-toggleable__control sk-hidden--visually\" id=\"sk-estimator-id-2\" type=\"checkbox\" ><label for=\"sk-estimator-id-2\" class=\"sk-toggleable__label fitted sk-toggleable__label-arrow\"><div><div>RandomizedSearchCV</div></div><div><a class=\"sk-estimator-doc-link fitted\" rel=\"noreferrer\" target=\"_blank\" href=\"https://scikit-learn.org/1.6/modules/generated/sklearn.model_selection.RandomizedSearchCV.html\">?<span>Documentation for RandomizedSearchCV</span></a><span class=\"sk-estimator-doc-link fitted\">i<span>Fitted</span></span></div></label><div class=\"sk-toggleable__content fitted\"><pre>RandomizedSearchCV(cv=5, estimator=RandomForestClassifier(random_state=42),\n",
              "                   n_iter=50, n_jobs=-1,\n",
              "                   param_distributions={&#x27;bootstrap&#x27;: [True, False],\n",
              "                                        &#x27;max_depth&#x27;: [5, 10, 15, 20, None],\n",
              "                                        &#x27;max_features&#x27;: [&#x27;sqrt&#x27;, &#x27;log2&#x27;, None],\n",
              "                                        &#x27;min_samples_leaf&#x27;: [1, 2, 4],\n",
              "                                        &#x27;min_samples_split&#x27;: [2, 5, 10],\n",
              "                                        &#x27;n_estimators&#x27;: [100, 200, 300, 400,\n",
              "                                                         500]},\n",
              "                   random_state=42, scoring=&#x27;f1&#x27;, verbose=1)</pre></div> </div></div><div class=\"sk-parallel\"><div class=\"sk-parallel-item\"><div class=\"sk-item\"><div class=\"sk-label-container\"><div class=\"sk-label fitted sk-toggleable\"><input class=\"sk-toggleable__control sk-hidden--visually\" id=\"sk-estimator-id-3\" type=\"checkbox\" ><label for=\"sk-estimator-id-3\" class=\"sk-toggleable__label fitted sk-toggleable__label-arrow\"><div><div>best_estimator_: RandomForestClassifier</div></div></label><div class=\"sk-toggleable__content fitted\"><pre>RandomForestClassifier(max_depth=5, max_features=None, min_samples_leaf=2,\n",
              "                       min_samples_split=10, random_state=42)</pre></div> </div></div><div class=\"sk-serial\"><div class=\"sk-item\"><div class=\"sk-estimator fitted sk-toggleable\"><input class=\"sk-toggleable__control sk-hidden--visually\" id=\"sk-estimator-id-4\" type=\"checkbox\" ><label for=\"sk-estimator-id-4\" class=\"sk-toggleable__label fitted sk-toggleable__label-arrow\"><div><div>RandomForestClassifier</div></div><div><a class=\"sk-estimator-doc-link fitted\" rel=\"noreferrer\" target=\"_blank\" href=\"https://scikit-learn.org/1.6/modules/generated/sklearn.ensemble.RandomForestClassifier.html\">?<span>Documentation for RandomForestClassifier</span></a></div></label><div class=\"sk-toggleable__content fitted\"><pre>RandomForestClassifier(max_depth=5, max_features=None, min_samples_leaf=2,\n",
              "                       min_samples_split=10, random_state=42)</pre></div> </div></div></div></div></div></div></div></div></div>"
            ]
          },
          "metadata": {},
          "execution_count": 93
        }
      ]
    },
    {
      "cell_type": "code",
      "source": [
        "print(\" Best Parameters:\")\n",
        "print(random_search.best_params_)\n",
        "\n",
        "best_rf = random_search.best_estimator_\n"
      ],
      "metadata": {
        "id": "6bLQBfiEgcvz",
        "colab": {
          "base_uri": "https://localhost:8080/"
        },
        "outputId": "20a851d7-c661-418e-dfd5-0bc6bf60f6e8"
      },
      "execution_count": 94,
      "outputs": [
        {
          "metadata": {
            "tags": null
          },
          "name": "stdout",
          "output_type": "stream",
          "text": [
            " Best Parameters:\n",
            "{'n_estimators': 100, 'min_samples_split': 10, 'min_samples_leaf': 2, 'max_features': None, 'max_depth': 5, 'bootstrap': True}\n"
          ]
        }
      ]
    },
    {
      "cell_type": "code",
      "source": [
        "y_pred = best_rf.predict(X_test)\n",
        "y_proba = best_rf.predict_proba(X_test)[:, 1]\n",
        "\n",
        "print(\"Evaluation Metrics (After Tuning):\")\n",
        "print(\"Accuracy :\", accuracy_score(y_test, y_pred))\n",
        "print(\"F1 Score :\", f1_score(y_test, y_pred))\n",
        "print(\"Precision:\", precision_score(y_test, y_pred))\n",
        "print(\"Recall   :\", recall_score(y_test, y_pred))"
      ],
      "metadata": {
        "id": "je-1Bw2vgfV9"
      },
      "execution_count": null,
      "outputs": []
    },
    {
      "cell_type": "markdown",
      "source": [
        "# Bagging"
      ],
      "metadata": {
        "id": "tdT65zcdAu1N"
      }
    },
    {
      "cell_type": "code",
      "source": [
        "bagging = BaggingClassifier(\n",
        "    estimator=DecisionTreeClassifier(),\n",
        "    n_estimators=50,\n",
        "    random_state=42\n",
        ")\n",
        "bagging.fit(X_train, y_train)\n",
        "y_pred_bag = bagging.predict(X_test)"
      ],
      "metadata": {
        "id": "v9CggD47AuLm"
      },
      "execution_count": null,
      "outputs": []
    },
    {
      "cell_type": "code",
      "source": [
        "print(\"Bagging Results:\")\n",
        "print(\"Accuracy:\", accuracy_score(y_test, y_pred_bag))\n",
        "print(classification_report(y_test, y_pred_bag))"
      ],
      "metadata": {
        "id": "BiMqODQTA4SB"
      },
      "execution_count": null,
      "outputs": []
    },
    {
      "cell_type": "markdown",
      "source": [
        "# Boosting"
      ],
      "metadata": {
        "id": "gPftJMULA7iV"
      }
    },
    {
      "cell_type": "code",
      "source": [
        "#adaboost\n",
        "adaboost = AdaBoostClassifier(\n",
        "    estimator=DecisionTreeClassifier(max_depth=1),\n",
        "    n_estimators=100,\n",
        "    random_state=42\n",
        ")\n",
        "adaboost.fit(X_train, y_train)\n",
        "y_pred_ada = adaboost.predict(X_test)"
      ],
      "metadata": {
        "id": "lraW8vXpA9BF"
      },
      "execution_count": null,
      "outputs": []
    },
    {
      "cell_type": "code",
      "source": [
        "print(\"AdaBoost Results:\")\n",
        "print(\"Accuracy:\", accuracy_score(y_test, y_pred_ada))\n",
        "print(classification_report(y_test, y_pred_ada))"
      ],
      "metadata": {
        "id": "1NPKT0ToBATQ"
      },
      "execution_count": null,
      "outputs": []
    },
    {
      "cell_type": "code",
      "source": [
        "#gradient boosting\n",
        "gradboost = GradientBoostingClassifier(\n",
        "    n_estimators=100,\n",
        "    learning_rate=0.1,\n",
        "    random_state=42\n",
        ")\n",
        "gradboost.fit(X_train, y_train)\n",
        "y_pred_gb = gradboost.predict(X_test)"
      ],
      "metadata": {
        "id": "hvIJPwSmBNob"
      },
      "execution_count": null,
      "outputs": []
    },
    {
      "cell_type": "code",
      "source": [
        "print(\"\\nGradient Boosting Results:\")\n",
        "print(\"Accuracy:\", accuracy_score(y_test, y_pred_gb))\n",
        "print(classification_report(y_test, y_pred_gb))"
      ],
      "metadata": {
        "id": "BZKVX0sdBQi3"
      },
      "execution_count": null,
      "outputs": []
    },
    {
      "cell_type": "markdown",
      "source": [
        "# Cross Validation"
      ],
      "metadata": {
        "id": "32ufMoZ8BCBx"
      }
    },
    {
      "cell_type": "code",
      "source": [
        "models = {\n",
        "    \"Bagging\": bagging,\n",
        "    \"AdaBoost\": adaboost,\n",
        "    \"GradientBoost\": gradboost\n",
        "}\n",
        "\n",
        "print(\"\\nCross Validation (5-fold):\")\n",
        "for name, model in models.items():\n",
        "    scores = cross_val_score(model, X_train, y_train, cv=5, scoring=\"accuracy\")\n",
        "    print(f\"{name}: Mean CV Accuracy = {scores.mean():.4f} (+/- {scores.std():.4f})\")"
      ],
      "metadata": {
        "id": "a4cWqvSZBHEV"
      },
      "execution_count": null,
      "outputs": []
    }
  ]
}